{
 "cells": [
  {
   "cell_type": "code",
   "execution_count": 1,
   "metadata": {
    "collapsed": true
   },
   "outputs": [],
   "source": [
    "from holodeck import packagemanager"
   ]
  },
  {
   "cell_type": "code",
   "execution_count": 2,
   "outputs": [
    {
     "data": {
      "text/plain": "[]"
     },
     "execution_count": 2,
     "metadata": {},
     "output_type": "execute_result"
    }
   ],
   "source": [
    "packagemanager.installed_packages()"
   ],
   "metadata": {
    "collapsed": false,
    "pycharm": {
     "name": "#%%\n"
    }
   }
  },
  {
   "cell_type": "code",
   "execution_count": 3,
   "outputs": [
    {
     "data": {
      "text/plain": "['DefaultWorlds', 'Dexterity']"
     },
     "execution_count": 3,
     "metadata": {},
     "output_type": "execute_result"
    }
   ],
   "source": [
    "packagemanager.available_packages()"
   ],
   "metadata": {
    "collapsed": false,
    "pycharm": {
     "name": "#%%\n"
    }
   }
  },
  {
   "cell_type": "code",
   "execution_count": 4,
   "outputs": [
    {
     "name": "stdout",
     "output_type": "stream",
     "text": [
      "Installing DefaultWorlds from https://s3.amazonaws.com/holodeckworlds/packages/0.3.1/DefaultWorlds/Linux.zip to /home/medric/.local/share/holodeck/0.3.1/worlds/DefaultWorlds\n",
      "File size: 3.5 GB\n",
      "|████████████████████| 100%\n",
      "Unpacking worlds...\n",
      "Fixing Permissions\n",
      "Finished.\n"
     ]
    }
   ],
   "source": [
    "packagemanager.install('DefaultWorlds')"
   ],
   "metadata": {
    "collapsed": false,
    "pycharm": {
     "name": "#%%\n"
    }
   }
  },
  {
   "cell_type": "code",
   "execution_count": 5,
   "outputs": [
    {
     "name": "stdout",
     "output_type": "stream",
     "text": [
      "Package: DefaultWorlds\n",
      "   Platform: Linux\n",
      "   Version: 0.3.1\n",
      "   Path: LinuxNoEditor/Holodeck/Binaries/Linux/Holodeck\n",
      "   Worlds:\n",
      "     AndroidPlayground\n",
      "         Scenarios:\n",
      "           AndroidPlayground-MaxDistance:\n",
      "             Agents:\n",
      "               Name: android0\n",
      "               Type: AndroidAgent\n",
      "               Sensors:\n",
      "                 {'sensor_type': 'RGBCamera', 'socket': 'CameraSocket'}\n",
      "                 {'sensor_type': 'LocationSensor'}\n",
      "                 {'sensor_type': 'OrientationSensor'}\n",
      "                 {'sensor_type': 'IMUSensor'}\n",
      "                 {'sensor_type': 'VelocitySensor'}\n",
      "                 {'sensor_type': 'JointRotationSensor'}\n",
      "                 {'sensor_type': 'RelativeSkeletalPositionSensor'}\n",
      "                 {'sensor_type': 'PressureSensor'}\n",
      "                 {'sensor_type': 'DistanceTask', 'configuration': {'Interval': 10, 'GoalDistance': 100, 'MaximizeDistance': False}}\n",
      "     CyberPunkCity\n",
      "         Scenarios:\n",
      "           CyberPunkCity-Follow:\n",
      "             Agents:\n",
      "               Name: uav0\n",
      "               Type: UavAgent\n",
      "               Sensors:\n",
      "                 {'sensor_type': 'RGBCamera', 'socket': 'CameraSocket'}\n",
      "                 {'sensor_type': 'LocationSensor'}\n",
      "                 {'sensor_type': 'OrientationSensor'}\n",
      "                 {'sensor_type': 'VelocitySensor'}\n",
      "                 {'sensor_type': 'CollisionSensor'}\n",
      "                 {'sensor_type': 'IMUSensor'}\n",
      "                 {'sensor_type': 'FollowTask', 'configuration': {'ToFollow': 'nav0', 'OnlyWithinSight': False, 'FOVRadians': 5, 'MinDistance': 187}}\n",
      "               Name: nav0\n",
      "               Type: NavAgent\n",
      "               Sensors:\n",
      "                 {'sensor_type': 'LocationSensor'}\n",
      "     EuropeanForest\n",
      "         Scenarios:\n",
      "           EuropeanForest-MaxDistance:\n",
      "             Agents:\n",
      "               Name: uav0\n",
      "               Type: UavAgent\n",
      "               Sensors:\n",
      "                 {'sensor_type': 'RGBCamera', 'socket': 'CameraSocket'}\n",
      "                 {'sensor_type': 'LocationSensor'}\n",
      "                 {'sensor_type': 'OrientationSensor'}\n",
      "                 {'sensor_type': 'VelocitySensor'}\n",
      "                 {'sensor_type': 'CollisionSensor'}\n",
      "                 {'sensor_type': 'IMUSensor'}\n",
      "                 {'sensor_type': 'AbuseSensor'}\n",
      "                 {'sensor_type': 'DistanceTask', 'configuration': {'Interval': 5, 'GoalDistance': 500, 'MaximizeDistance': True}}\n",
      "     InfiniteForest\n",
      "         Scenarios:\n",
      "           InfiniteForest-MaxDistance:\n",
      "             Agents:\n",
      "               Name: uav0\n",
      "               Type: UavAgent\n",
      "               Sensors:\n",
      "                 {'sensor_type': 'RGBCamera', 'socket': 'CameraSocket'}\n",
      "                 {'sensor_type': 'LocationSensor'}\n",
      "                 {'sensor_type': 'OrientationSensor'}\n",
      "                 {'sensor_type': 'VelocitySensor'}\n",
      "                 {'sensor_type': 'CollisionSensor'}\n",
      "                 {'sensor_type': 'IMUSensor'}\n",
      "                 {'sensor_type': 'AbuseSensor'}\n",
      "                 {'sensor_type': 'RangeFinderSensor', 'configuration': {'LaserCount': 5}}\n",
      "                 {'sensor_type': 'DistanceTask', 'configuration': {'Interval': 5, 'GoalDistance': 1000, 'MaximizeDistance': True}}\n",
      "     MazeWorld\n",
      "         Scenarios:\n",
      "           MazeWorld-FinishMazeSphere:\n",
      "             Agents:\n",
      "               Name: sphere0\n",
      "               Type: SphereAgent\n",
      "               Sensors:\n",
      "                 {'sensor_type': 'RGBCamera', 'socket': 'CameraSocket'}\n",
      "                 {'sensor_type': 'LocationSensor'}\n",
      "                 {'sensor_type': 'OrientationSensor'}\n",
      "                 {'sensor_type': 'RangeFinderSensor', 'configuration': {'LaserCount': 5}}\n",
      "                 {'sensor_type': 'DistanceTask', 'configuration': {'GoalActor': 'GoalPost', 'Interval': 0.5, 'GoalDistance': 2, 'MaximizeDistance': False}}\n",
      "     RedwoodForest\n",
      "         Scenarios:\n",
      "           RedwoodForest-MaxDistance:\n",
      "             Agents:\n",
      "               Name: uav0\n",
      "               Type: UavAgent\n",
      "               Sensors:\n",
      "                 {'sensor_type': 'RGBCamera', 'socket': 'CameraSocket'}\n",
      "                 {'sensor_type': 'LocationSensor'}\n",
      "                 {'sensor_type': 'OrientationSensor'}\n",
      "                 {'sensor_type': 'VelocitySensor'}\n",
      "                 {'sensor_type': 'CollisionSensor'}\n",
      "                 {'sensor_type': 'IMUSensor'}\n",
      "                 {'sensor_type': 'AbuseSensor'}\n",
      "                 {'sensor_type': 'DistanceTask', 'configuration': {'Interval': 5, 'GoalDistance': 500, 'MaximizeDistance': True}}\n",
      "     UrbanCity\n",
      "         Scenarios:\n",
      "           UrbanCity-MaxDistance:\n",
      "             Agents:\n",
      "               Name: uav0\n",
      "               Type: UavAgent\n",
      "               Sensors:\n",
      "                 {'sensor_type': 'RGBCamera', 'socket': 'CameraSocket'}\n",
      "                 {'sensor_type': 'LocationSensor'}\n",
      "                 {'sensor_type': 'OrientationSensor'}\n",
      "                 {'sensor_type': 'VelocitySensor'}\n",
      "                 {'sensor_type': 'CollisionSensor'}\n",
      "                 {'sensor_type': 'IMUSensor'}\n",
      "                 {'sensor_type': 'AbuseSensor'}\n",
      "                 {'sensor_type': 'DistanceTask', 'configuration': {'Interval': 5, 'GoalDistance': 500, 'MaximizeDistance': True}}\n"
     ]
    }
   ],
   "source": [
    "packagemanager.package_info('DefaultWorlds')"
   ],
   "metadata": {
    "collapsed": false,
    "pycharm": {
     "name": "#%%\n"
    }
   }
  },
  {
   "cell_type": "code",
   "execution_count": 6,
   "outputs": [
    {
     "name": "stdout",
     "output_type": "stream",
     "text": [
      " EuropeanForest\n",
      "     Scenarios:\n",
      "       EuropeanForest-MaxDistance:\n",
      "         Agents:\n",
      "           Name: uav0\n",
      "           Type: UavAgent\n",
      "           Sensors:\n",
      "             {'sensor_type': 'RGBCamera', 'socket': 'CameraSocket'}\n",
      "             {'sensor_type': 'LocationSensor'}\n",
      "             {'sensor_type': 'OrientationSensor'}\n",
      "             {'sensor_type': 'VelocitySensor'}\n",
      "             {'sensor_type': 'CollisionSensor'}\n",
      "             {'sensor_type': 'IMUSensor'}\n",
      "             {'sensor_type': 'AbuseSensor'}\n",
      "             {'sensor_type': 'DistanceTask', 'configuration': {'Interval': 5, 'GoalDistance': 500, 'MaximizeDistance': True}}\n"
     ]
    }
   ],
   "source": [
    "packagemanager.world_info('EuropeanForest')"
   ],
   "metadata": {
    "collapsed": false,
    "pycharm": {
     "name": "#%%\n"
    }
   }
  },
  {
   "cell_type": "code",
   "execution_count": 8,
   "outputs": [
    {
     "name": "stdout",
     "output_type": "stream",
     "text": [
      " EuropeanForest-MaxDistance:\n",
      "   Agents:\n",
      "     Name: uav0\n",
      "     Type: UavAgent\n",
      "     Sensors:\n",
      "       {'sensor_type': 'RGBCamera', 'socket': 'CameraSocket'}\n",
      "       {'sensor_type': 'LocationSensor'}\n",
      "       {'sensor_type': 'OrientationSensor'}\n",
      "       {'sensor_type': 'VelocitySensor'}\n",
      "       {'sensor_type': 'CollisionSensor'}\n",
      "       {'sensor_type': 'IMUSensor'}\n",
      "       {'sensor_type': 'AbuseSensor'}\n",
      "       {'sensor_type': 'DistanceTask', 'configuration': {'Interval': 5, 'GoalDistance': 500, 'MaximizeDistance': True}}\n"
     ]
    }
   ],
   "source": [
    "packagemanager.scenario_info('EuropeanForest-MaxDistance')"
   ],
   "metadata": {
    "collapsed": false,
    "pycharm": {
     "name": "#%%\n"
    }
   }
  },
  {
   "cell_type": "code",
   "execution_count": 9,
   "outputs": [
    {
     "name": "stdout",
     "output_type": "stream",
     "text": [
      " MazeWorld-FinishMazeSphere:\n",
      "   Agents:\n",
      "     Name: sphere0\n",
      "     Type: SphereAgent\n",
      "     Sensors:\n",
      "       {'sensor_type': 'RGBCamera', 'socket': 'CameraSocket'}\n",
      "       {'sensor_type': 'LocationSensor'}\n",
      "       {'sensor_type': 'OrientationSensor'}\n",
      "       {'sensor_type': 'RangeFinderSensor', 'configuration': {'LaserCount': 5}}\n",
      "       {'sensor_type': 'DistanceTask', 'configuration': {'GoalActor': 'GoalPost', 'Interval': 0.5, 'GoalDistance': 2, 'MaximizeDistance': False}}\n"
     ]
    }
   ],
   "source": [
    "packagemanager.scenario_info('MazeWorld-FinishMazeSphere')"
   ],
   "metadata": {
    "collapsed": false,
    "pycharm": {
     "name": "#%%\n"
    }
   }
  },
  {
   "cell_type": "code",
   "execution_count": null,
   "outputs": [],
   "source": [],
   "metadata": {
    "collapsed": false,
    "pycharm": {
     "name": "#%%\n"
    }
   }
  }
 ],
 "metadata": {
  "kernelspec": {
   "display_name": "Python 3",
   "language": "python",
   "name": "python3"
  },
  "language_info": {
   "codemirror_mode": {
    "name": "ipython",
    "version": 2
   },
   "file_extension": ".py",
   "mimetype": "text/x-python",
   "name": "python",
   "nbconvert_exporter": "python",
   "pygments_lexer": "ipython2",
   "version": "2.7.6"
  }
 },
 "nbformat": 4,
 "nbformat_minor": 0
}